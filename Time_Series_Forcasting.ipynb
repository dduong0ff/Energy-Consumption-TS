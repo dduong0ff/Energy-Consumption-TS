{
 "cells": [
  {
   "cell_type": "markdown",
   "id": "bb3eec64-05c7-4f31-961b-746039bfc8fa",
   "metadata": {},
   "source": [
    "# Time Series Forcasting on Energy Consumption Dataset"
   ]
  },
  {
   "cell_type": "code",
   "execution_count": 4,
   "id": "a72de815-b8e8-41b9-b05b-2e9a9ba5ae5d",
   "metadata": {},
   "outputs": [],
   "source": [
    "import pandas as pd\n",
    "import numpy as np\n",
    "import matplotlib.pyplot as plt\n",
    "import seaborn as sns\n",
    "\n",
    "import xgboost as xgb\n",
    "\n",
    "# import weights and biases\n",
    "# import wandb"
   ]
  },
  {
   "cell_type": "code",
   "execution_count": null,
   "id": "c92fb858-02ed-4fc8-8fb1-6dd58981feea",
   "metadata": {},
   "outputs": [],
   "source": []
  }
 ],
 "metadata": {
  "kernelspec": {
   "display_name": "Python 3 (ipykernel)",
   "language": "python",
   "name": "python3"
  },
  "language_info": {
   "codemirror_mode": {
    "name": "ipython",
    "version": 3
   },
   "file_extension": ".py",
   "mimetype": "text/x-python",
   "name": "python",
   "nbconvert_exporter": "python",
   "pygments_lexer": "ipython3",
   "version": "3.12.2"
  }
 },
 "nbformat": 4,
 "nbformat_minor": 5
}
